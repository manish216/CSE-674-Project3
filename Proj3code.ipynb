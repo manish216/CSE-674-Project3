{
  "nbformat": 4,
  "nbformat_minor": 0,
  "metadata": {
    "colab": {
      "name": "Proj3code",
      "version": "0.3.2",
      "provenance": [],
      "collapsed_sections": [],
      "toc_visible": true
    },
    "kernelspec": {
      "name": "python3",
      "display_name": "Python 3"
    },
    "accelerator": "GPU"
  },
  "cells": [
    {
      "cell_type": "markdown",
      "metadata": {
        "id": "ha2O_15AkPtw",
        "colab_type": "text"
      },
      "source": [
        "# Visual Explanations for Handwriting Verification using Grad-CAM\n",
        "\n",
        "This notebook is a demo for *Handwriting Verification*, where is the goal is to find whether the given two samples are from same writers or different writers [intra-writers or inter-writers]  by evaluating the similarity between two given handwritten samples. \n",
        "Forensic community has used the Likelihood ratio [LR] to find the degree of similarity between a Known k and a Questioned q sample. However the methods previously used by the forensic analysts are purely based on handcrafted features. By using the deep learning model we are acheiveing a good performance and accuracy but the deep learning is a black box. \n",
        "So we go for the Explainable Artifical Intelligence Interface (XAI) \n",
        "* a) Textual explaination\n",
        "* b) Visual explaination:\n",
        "Grad-CAM, Which uses the gradient of target, flowing through the final convolution layer to produce a coarse localization layer [heatmap] highlighting the important regions in the image.\n",
        "\n",
        "\n",
        "* [Grad-CAM ICCV paper]:(https://arxiv.org/pdf/1710.11063.pdf)\n",
        "* [Code reference]: (https://github.com/PowerOfCreation/keras-grad-cam/blob/master/grad-cam.py)\n",
        "* [Dataset]:  (https://)\n",
        "* [Blog Reference]: (https://machinelearningfromub.home.blog/)\n",
        "\n",
        "\n",
        "\n",
        "<img src=\" https://docs.google.com/uc?export=download&id=1kD6DGpZsfLXANZOQon811StrChThff5F\" alt=\"Grad-CAM heatmap\" width=\"300\" height = \"300\"  align=\"middle\">\n"
      ]
    },
    {
      "cell_type": "markdown",
      "metadata": {
        "id": "MFFEpXDJlOCt",
        "colab_type": "text"
      },
      "source": [
        "## 1: Environment Setup\n",
        "\n",
        "\n",
        "This notebook sythesis of the images of word \"and\" which are cropped from a letter written by different writters. Where the images are loaded into google colab drive and trained on CNN model.\n",
        "* This environment consists of the following sections:\n",
        "    *  Pre-processing of Dataset.\n",
        "    *  GradCAM function\n",
        "    *  Model\n",
        "\n",
        "\n",
        "\n",
        "\n",
        "\n",
        "\n",
        "### Instructions for running:\n",
        "\n",
        "* Make sure to use a GPU runtime, click:  __Runtime >> Change Runtime Type >> GPU__\n",
        "* Then press the **Play** button on the left of each of the cells\n",
        "* Double-click any of the cells to view the code\n"
      ]
    },
    {
      "cell_type": "code",
      "metadata": {
        "id": "lRDMB19p1SpP",
        "colab_type": "code",
        "cellView": "form",
        "colab": {
          "base_uri": "https://localhost:8080/",
          "height": 34
        },
        "outputId": "3845c063-b254-4d51-9635-e6f55b7b0336"
      },
      "source": [
        "#@title Libraries\n",
        "#@markdown import essential libraries.\n",
        "\n",
        "from google.colab import files\n",
        "from keras.applications.vgg16 import (\n",
        "    VGG16, preprocess_input, decode_predictions)\n",
        "from keras.models import Model\n",
        "from keras.preprocessing import image\n",
        "from keras.layers.core import Lambda\n",
        "from keras.models import Sequential\n",
        "from tensorflow.python.framework import ops\n",
        "import keras.backend as K\n",
        "import tensorflow as tf\n",
        "import numpy as np\n",
        "from keras import optimizers,activations\n",
        "import sys\n",
        "import cv2\n",
        "from keras.layers import Input, Conv2D,Flatten,Dense,MaxPooling2D\n",
        "import os\n",
        "from keras.callbacks import ModelCheckpoint, EarlyStopping\n",
        "from IPython.display import SVG\n",
        "from keras.utils.vis_utils import model_to_dot\n",
        "import pandas as pd\n",
        "from keras.utils import to_categorical"
      ],
      "execution_count": 4,
      "outputs": [
        {
          "output_type": "stream",
          "text": [
            "Using TensorFlow backend.\n"
          ],
          "name": "stderr"
        }
      ]
    },
    {
      "cell_type": "code",
      "metadata": {
        "colab_type": "code",
        "id": "t5ZnvCBGykTl",
        "outputId": "0ac92e35-6c32-47ff-cd1b-c2416cb95587",
        "cellView": "form",
        "colab": {
          "base_uri": "https://localhost:8080/",
          "height": 123
        }
      },
      "source": [
        "#@title ## 1.2: Reading Dataset\n",
        "#@markdown About Dataset:\n",
        "#@markdown XAI-AND dataset is a publicly available dataset for handwriting verification, comprising of 15,518 “AND” image fragments extracted from CEDAR Letter Dataset \\cite{Individuality:1} written by 1567 writers. Each ``AND'' image fragment is labeled by a questioned document (QD) examiner with 15 explainable discrete features. QD examiners have specified these handwriting features based on years of training using seven fundamental elements of handwriting as shown below. We have created a web based truthing tool for QD examiners to enter the values for the 15 features for “AND” images fragments. The data entry work using the truthing tool was shared primarily between 89 external examiners. The data entered by the external examiners was verified by 2 QD examiners. The resultant dataset serves as a good resource for explanation based handwriting verification.\n",
        "#@markdown Here we are cloning the Dataset from the Github Repository and splitting the whole data set into training and validation set.\n",
        "\n",
        "! git clone https://github.com/kumarankit1996/Dataset.git\n",
        "\n",
        "#@markdown \n",
        "def image_dataset(data):\n",
        "  Train_dataset={}\n",
        "  Val_dataset={}\n",
        "  #getting inside directory\n",
        "  imgs=os.listdir(\"Dataset/AML_Proj2/\"+data+\"/TrainingSet/\")\n",
        "  #looping over all the images in the directory\n",
        "  for name in imgs:\n",
        "    img=cv2.imread(\"Dataset/AML_Proj2/\"+data+\"/TrainingSet/\"+str(name),0)\n",
        "    if img is not None:\n",
        "      img=(255.0-img)/255.0\n",
        "      Train_dataset[name]=img\n",
        "  imgs=os.listdir(\"Dataset/AML_Proj2/\"+data+\"/ValidationSet/\")\n",
        "  #looping over all the images in the directory\n",
        "  for name in imgs:\n",
        "    img=cv2.imread(\"Dataset/AML_Proj2/\"+data+\"/ValidationSet/\"+str(name),0)\n",
        "    if img is not None:\n",
        "      img=(255.0-img)/255.0\n",
        "      Val_dataset[name]=img\n",
        "  return Train_dataset,Val_dataset\n",
        "\n",
        "\n",
        "input_shape=(64,64)\n",
        "classes=4\n",
        "#@markdown\n",
        "#Train_seen_images,Val_seen_images=image_dataset(\"seen-dataset\")\n",
        "Train_unseen_images,Val_unseen_images=image_dataset(\"unseen-dataset\")\n",
        "#Train_shuffled_images,Val_shuffled_images=image_dataset(\"shuffled-dataset\")\n",
        "\n",
        "#@markdown\n",
        "all_feature=pd.read_csv(\"Dataset/AML_Proj2/15features.csv\")\n",
        "all_feature.set_index('imagename',inplace=True)"
      ],
      "execution_count": 5,
      "outputs": [
        {
          "output_type": "stream",
          "text": [
            "Cloning into 'Dataset'...\n",
            "remote: Enumerating objects: 14198, done.\u001b[K\n",
            "remote: Total 14198 (delta 0), reused 0 (delta 0), pack-reused 14198\u001b[K\n",
            "Receiving objects: 100% (14198/14198), 197.53 MiB | 34.57 MiB/s, done.\n",
            "Resolving deltas: 100% (74/74), done.\n",
            "Checking out files: 100% (42293/42293), done.\n"
          ],
          "name": "stdout"
        }
      ]
    },
    {
      "cell_type": "code",
      "metadata": {
        "id": "w6s0Jsd_7Rer",
        "colab_type": "code",
        "cellView": "form",
        "outputId": "af843bf7-dd3a-48ab-d79a-591c47ae14f5",
        "colab": {
          "base_uri": "https://localhost:8080/",
          "height": 34
        }
      },
      "source": [
        "#@title ## 1.3: Functions \n",
        "#@markdown ###  1.3.1: Datagen\n",
        "#@markdown Datagen Exlaination\n",
        "def datagen(s,batch_size,hshift=(-64,64),val=False):\n",
        "  w=h=64\n",
        "  global writer_info\n",
        "  if s=='seen_train':\n",
        "    #X=Train_seen_data\n",
        "    dataset=list(Train_seen_images.items())\n",
        "  elif s==\"seen_val\":\n",
        "    #X=Val_seen_data\n",
        "    dataset=list(Val_seen_images.items())  \n",
        "  elif s==\"unseen_train\":\n",
        "    #X=Train_unseen_data\n",
        "    dataset=list(Train_unseen_images.items())\n",
        "  elif s==\"unseen_val\":\n",
        "    #X=Val_unseen_data\n",
        "    dataset=list(Val_unseen_images.items())\n",
        "  elif s==\"shuffled_train\":\n",
        "    #X=Train_shuffled_data\n",
        "    dataset=list(Train_shuffled_images.items())\n",
        "  elif s==\"shuffled_val\":\n",
        "    #X=Val_shuffled_data\n",
        "    dataset=list(Val_shuffled_images.items())\n",
        "  while True:\n",
        "    # counter for number of images in a batch\n",
        "    counter=0\n",
        "    # train x\n",
        "    x=[]\n",
        "    # target\n",
        "    y=[]\n",
        "    # writers name list\n",
        "    writers=[]\n",
        "    # writer ids\n",
        "    ids=[]\n",
        "    index=np.random.randint(0,len(dataset),batch_size)\n",
        "    try:\n",
        "      for i in index:\n",
        "        # adding writers  name\n",
        "        writers.append(dataset[i][0])\n",
        "        #extract target\n",
        "        target=all_feature.loc[dataset[i][0],'staff_of_a']\n",
        "        y.append(to_categorical(target-1,num_classes=classes))\n",
        "        # appending the orignal images\n",
        "        x.append(dataset[i][1].reshape((64,64,1)))\n",
        "        # adding the writer id\n",
        "        ids.append(dataset[i][0][:4])\n",
        "        if val==True:\n",
        "          writer_info.append([dataset[i][0][:4],dataset[i][0]])\n",
        "        counter+=1\n",
        "    except:\n",
        "      continue\n",
        "    if counter<=batch_size:\n",
        "      if val==True:\n",
        "        yield np.array(x),np.array(y)\n",
        "      else:\n",
        "        yield np.array(x),np.array(y)\n",
        "        \n",
        "        \n",
        "        \n",
        "        \n",
        "#@markdown ### 1.3.2: GradCAM function\n",
        "#@markdown The GradCAM is the visualization technique used to visually explain the decisions from the large class of Convolution neural network (CNN), -based models.In this method, The output predicted class is decoded and the gradients are calculated with respect to the output layer of the model. By performing the global average pooling technique [i.e; taking the mean of grad values] we can calculate the new important weights of part of an image which was predicted by our model.We make the mask which is generally a blur effect on the image.This mask is superimposed on the image which was given to model to predict, to highlight only the predicted part and remaining part of the image is blurred.\n",
        "\n",
        "def target_category_loss(x, category_index, nb_classes):\n",
        "    return tf.multiply(x, K.one_hot([category_index], nb_classes))\n",
        "\n",
        "def target_category_loss_output_shape(input_shape):\n",
        "    return input_shape\n",
        "\n",
        "def normalize(x):\n",
        "    # utility function to normalize a tensor by its L2 norm\n",
        "    return x / (K.sqrt(K.mean(K.square(x))) + 1e-5)\n",
        "\n",
        "def load_image(img):\n",
        "    #img_path = sys.argv[1]\n",
        "    #img = image.load_img(path, target_size=input_shape)\n",
        "    x = image.img_to_array(img)\n",
        "    x = np.expand_dims(x, axis=0)\n",
        "    #x = preprocess_input(x)\n",
        "    return x\n",
        "\n",
        "def register_gradient():\n",
        "    if \"GuidedBackProp\" not in ops._gradient_registry._registry:\n",
        "        @ops.RegisterGradient(\"GuidedBackProp\")\n",
        "        def _GuidedBackProp(op, grad):\n",
        "            dtype = op.inputs[0].dtype\n",
        "            return grad * tf.cast(grad > 0., dtype) * \\\n",
        "                tf.cast(op.inputs[0] > 0., dtype)\n",
        "\n",
        "def compile_saliency_function(model, activation_layer='conv5'):\n",
        "    input_img = model.input\n",
        "    layer_dict = dict([(layer.name, layer) for layer in model.layers[1:]])\n",
        "    layer_output = layer_dict[activation_layer].output\n",
        "    max_output = K.max(layer_output, axis=3)\n",
        "    saliency = K.gradients(K.sum(max_output), input_img)[0]\n",
        "    return K.function([input_img, K.learning_phase()], [saliency])\n",
        "\n",
        "def modify_backprop(model, name):\n",
        "    g = tf.get_default_graph()\n",
        "    with g.gradient_override_map({'Relu': name}):\n",
        "\n",
        "        # get layers that have an activation\n",
        "        layer_dict = [layer for layer in model.layers[1:]\n",
        "                      if hasattr(layer, 'activation')]\n",
        "\n",
        "        # replace relu activation\n",
        "        for layer in layer_dict:\n",
        "            if layer.activation == activations.relu:\n",
        "                layer.activation = tf.nn.relu\n",
        "\n",
        "        # re-instanciate a new model\n",
        "        new_model = VGG16(weights='imagenet')\n",
        "    return new_model\n",
        "\n",
        "def deprocess_image(x):\n",
        "    '''\n",
        "    Same normalization as in:\n",
        "    https://github.com/fchollet/keras/blob/master/examples/conv_filter_visualization.py\n",
        "    '''\n",
        "    if np.ndim(x) > 3:\n",
        "        x = np.squeeze(x)\n",
        "    # normalize tensor: center on 0., ensure std is 0.1\n",
        "    x -= x.mean()\n",
        "    x /= (x.std() + 1e-5)\n",
        "    x *= 0.1\n",
        "\n",
        "    # clip to [0, 1]\n",
        "    x += 0.5\n",
        "    x = np.clip(x, 0, 1)\n",
        "\n",
        "    # convert to RGB array\n",
        "    x *= 255\n",
        "    if K.image_dim_ordering() == 'th':\n",
        "        x = x.transpose((1, 2, 0))\n",
        "    x = np.clip(x, 0, 255).astype('uint8')\n",
        "    return x\n",
        "\n",
        "def _compute_gradients(tensor, var_list):\n",
        "    grads = tf.gradients(tensor, var_list)\n",
        "    return [grad if grad is not None else tf.zeros_like(var) for var, grad in zip(var_list, grads)]\n",
        "\n",
        "def grad_cam(input_model, image, category_index, layer_name):\n",
        "    #number of classes\n",
        "    nb_classes = classes\n",
        "    #target layer convertion into one hot and category wise activation\n",
        "    target_layer = lambda x: target_category_loss(x, category_index, nb_classes)\n",
        "    # Lamda layer added to the model with output shape =input shape\n",
        "    x = Lambda(target_layer, output_shape = target_category_loss_output_shape)(input_model.output)\n",
        "    model = Model(inputs=input_model.input, outputs=x)\n",
        "    #model.summary()\n",
        "    # loss= sum of the output of all the output/last layer nodes and input layer\n",
        "    loss = K.sum(model.output)\n",
        "    # conv output is output of the conv layer and also checked for the name of the 5th layer\n",
        "    conv_output =  [l for l in model.layers if l.name is layer_name][0].output\n",
        "    # gradient calculated and also normalised between the output and the the last conv layer\n",
        "    grads = normalize(_compute_gradients(loss, [conv_output])[0])\n",
        "    # a instance of the input layer and the last conv layer created \n",
        "    gradient_function = K.function([model.input], [conv_output, grads])\n",
        "    \n",
        "    # the image is passed in the instance and the output image with its gradient w.r.t to last conv layer is extracted\n",
        "    output, grads_val = gradient_function([image])\n",
        "    #print(grads_val.shape)\n",
        "    #print(output.shape)\n",
        "    \n",
        "    # output of the gradient function and its gradient value\n",
        "    output, grads_val = output[0, :], grads_val[0, :, :, :]\n",
        "    print(grads_val.shape)\n",
        "    print(output.shape)\n",
        "    \n",
        "    # weights is calculated = mean of each channel\n",
        "    weights = np.mean(grads_val, axis = (0, 1))\n",
        "    #print(weights.shape)\n",
        "    cam = np.ones(output.shape[0 : 2], dtype = np.float32)\n",
        "    \n",
        "    # channel wise multiplication with each weights\n",
        "    for i, w in enumerate(weights):\n",
        "        cam += w * output[:, :, i]\n",
        "        #print(output[:,:,i].shape)\n",
        "        \n",
        "    #print(cam.shape)\n",
        "    cam = cv2.resize(cam, (input_shape))\n",
        "    print(cam.shape)\n",
        "    cam = np.maximum(cam, 0)\n",
        "    # normalizing the cam with max value to extract important heatmap\n",
        "    heatmap = cam / np.max(cam)\n",
        "\n",
        "    #Return to BGR [0..255] from the preprocessed image\n",
        "    image = image[0, :]\n",
        "    image -= np.min(image)\n",
        "    image = np.minimum(image, 255)\n",
        "\n",
        "    cam = cv2.applyColorMap(np.uint8(255*heatmap), cv2.COLORMAP_JET)\n",
        "    cam = np.float32(cam) + np.float32(image)\n",
        "    cam = 255 * cam / np.max(cam)\n",
        "    return np.uint8(cam), heatmap\n",
        "print('execution done')"
      ],
      "execution_count": 6,
      "outputs": [
        {
          "output_type": "stream",
          "text": [
            "execution done\n"
          ],
          "name": "stdout"
        }
      ]
    },
    {
      "cell_type": "markdown",
      "metadata": {
        "id": "1AIIqpEMOMgd",
        "colab_type": "text"
      },
      "source": [
        "##  2:  Model\n",
        "<img src=\" https://docs.google.com/uc?export=download&id=1KS6MkrLy9NGl66rVP8uYwyejPYvqNVLo\" alt=\"Grad-CAM heatmap\" width=\"600\" height = \"400\">\n"
      ]
    },
    {
      "cell_type": "code",
      "metadata": {
        "id": "g6ElMi2yy5Lo",
        "colab_type": "code",
        "outputId": "d45bdff3-1077-4402-943b-8ba75498751b",
        "cellView": "form",
        "colab": {
          "base_uri": "https://localhost:8080/",
          "height": 747
        }
      },
      "source": [
        "#@title #  2.1: Defining the Model\n",
        "#@markdown The model as 5 convolution layers, where each convolution layer is followed by a Max-pool operation. Furthermore, each convolution layer has a kernel of dimension (3x3) and each Max-pooling has a pool size of (2x2). Then the output of the last convolution layer is flattened using a flatten layer, where we get 2096 features. Next, the flatten layer is connected to two fully connected layers [FC]. At the last, a softmax layer was applied to detect the classes of the 15 features. Using this whole architecture the model was trained and we have got the best weights was stored. Using this trained model the individual class probabilities of each feature were obtained and argmax was applied to predict the class. The predicted class was passed on to GradCAM as class activation index. \n",
        "\n",
        "\n",
        "\n",
        "\n",
        "img_input=Input(shape=(64,64,1))\n",
        "x= Sequential()\n",
        "x=Conv2D(64, (3, 3),activation='relu',padding='same',name='conv1')(img_input)\n",
        "x=MaxPooling2D((2, 2), strides=(2, 2), name='pool1')(x)\n",
        "x=Conv2D(128,(3,3),activation='relu',padding='same',name='conv2')(x)\n",
        "x=MaxPooling2D((2, 2), strides=(2, 2), name='pool2')(x)\n",
        "x=Conv2D(256,(3,3),activation='relu',padding='same',name='conv3')(x)\n",
        "x=MaxPooling2D((2, 2), strides=(2, 2), name='pool3')(x)\n",
        "x=Conv2D(512,(3,3),activation='relu',padding='same',name='conv4')(x)\n",
        "x=MaxPooling2D((2, 2), strides=(2, 2), name='pool4')(x)\n",
        "x=Conv2D(512,(3,3),activation='relu',padding='same',name='conv5')(x)\n",
        "x=MaxPooling2D((2, 2), strides=(2, 2), name='pool5')(x)\n",
        "\n",
        "x=Flatten(name='flatten')(x)\n",
        "x=Dense(4096,activation='relu',name='fc1')(x)\n",
        "x=Dense(4096,activation='relu',name='fc2')(x)\n",
        "x=Dense(classes,activation='softmax',name='prediction')(x)\n",
        "\n",
        "model=Model(img_input,x)\n",
        "model.compile(optimizer=optimizers.Adadelta(lr=0.01), loss='categorical_crossentropy',metrics=['accuracy'])\n",
        "model.summary()\n",
        "\n"
      ],
      "execution_count": 7,
      "outputs": [
        {
          "output_type": "stream",
          "text": [
            "WARNING:tensorflow:From /usr/local/lib/python3.6/dist-packages/tensorflow/python/framework/op_def_library.py:263: colocate_with (from tensorflow.python.framework.ops) is deprecated and will be removed in a future version.\n",
            "Instructions for updating:\n",
            "Colocations handled automatically by placer.\n",
            "_________________________________________________________________\n",
            "Layer (type)                 Output Shape              Param #   \n",
            "=================================================================\n",
            "input_1 (InputLayer)         (None, 64, 64, 1)         0         \n",
            "_________________________________________________________________\n",
            "conv1 (Conv2D)               (None, 64, 64, 64)        640       \n",
            "_________________________________________________________________\n",
            "pool1 (MaxPooling2D)         (None, 32, 32, 64)        0         \n",
            "_________________________________________________________________\n",
            "conv2 (Conv2D)               (None, 32, 32, 128)       73856     \n",
            "_________________________________________________________________\n",
            "pool2 (MaxPooling2D)         (None, 16, 16, 128)       0         \n",
            "_________________________________________________________________\n",
            "conv3 (Conv2D)               (None, 16, 16, 256)       295168    \n",
            "_________________________________________________________________\n",
            "pool3 (MaxPooling2D)         (None, 8, 8, 256)         0         \n",
            "_________________________________________________________________\n",
            "conv4 (Conv2D)               (None, 8, 8, 512)         1180160   \n",
            "_________________________________________________________________\n",
            "pool4 (MaxPooling2D)         (None, 4, 4, 512)         0         \n",
            "_________________________________________________________________\n",
            "conv5 (Conv2D)               (None, 4, 4, 512)         2359808   \n",
            "_________________________________________________________________\n",
            "pool5 (MaxPooling2D)         (None, 2, 2, 512)         0         \n",
            "_________________________________________________________________\n",
            "flatten (Flatten)            (None, 2048)              0         \n",
            "_________________________________________________________________\n",
            "fc1 (Dense)                  (None, 4096)              8392704   \n",
            "_________________________________________________________________\n",
            "fc2 (Dense)                  (None, 4096)              16781312  \n",
            "_________________________________________________________________\n",
            "prediction (Dense)           (None, 4)                 16388     \n",
            "=================================================================\n",
            "Total params: 29,100,036\n",
            "Trainable params: 29,100,036\n",
            "Non-trainable params: 0\n",
            "_________________________________________________________________\n"
          ],
          "name": "stdout"
        }
      ]
    },
    {
      "cell_type": "code",
      "metadata": {
        "id": "-7HevIya7oxp",
        "colab_type": "code",
        "outputId": "ad70251b-9a1e-4cd8-fcb2-a6f19045e914",
        "cellView": "form",
        "colab": {
          "base_uri": "https://localhost:8080/",
          "height": 1644
        }
      },
      "source": [
        "#@title # 2.2: Creating the model Checkpoint and adding the earrly-stopping.\n",
        "# GradCam_unseen_weights_v16_decay.h5\n",
        "#@markdown enter the filename for saving the weights.\n",
        "file_name = 'GradCam_unseen_weights_v200_decay.h5' #@param {type:\"string\"}\n",
        "early_stopping = 2000   #@param {type:\"number\"}\n",
        "mc = ModelCheckpoint(filepath=file_name, monitor='val_loss',period=1,save_best_only=True,save_weights_only=True,mode='auto', verbose = 3)\n",
        "es = EarlyStopping(patience=early_stopping, monitor='val_loss', min_delta=0.0005, mode='auto')\n",
        "SVG(model_to_dot(model, show_layer_names=True, show_shapes=True).create(prog='dot', format='svg'))# SVG(model_to_dot(autoencoder, show_layer_names=True, show_shapes=True).create(prog='dot', format='svg'))"
      ],
      "execution_count": 8,
      "outputs": [
        {
          "output_type": "execute_result",
          "data": {
            "text/plain": [
              "<IPython.core.display.SVG object>"
            ],
            "image/svg+xml": "<svg height=\"1217pt\" viewBox=\"0.00 0.00 346.00 1217.00\" width=\"346pt\" xmlns=\"http://www.w3.org/2000/svg\" xmlns:xlink=\"http://www.w3.org/1999/xlink\">\n<g class=\"graph\" id=\"graph0\" transform=\"scale(1 1) rotate(0) translate(4 1213)\">\n<title>G</title>\n<polygon fill=\"#ffffff\" points=\"-4,4 -4,-1213 342,-1213 342,4 -4,4\" stroke=\"transparent\"/>\n<!-- 140111455197280 -->\n<g class=\"node\" id=\"node1\">\n<title>140111455197280</title>\n<polygon fill=\"none\" points=\"15,-1162.5 15,-1208.5 323,-1208.5 323,-1162.5 15,-1162.5\" stroke=\"#000000\"/>\n<text fill=\"#000000\" font-family=\"Times,serif\" font-size=\"14.00\" text-anchor=\"middle\" x=\"81.5\" y=\"-1181.8\">input_1: InputLayer</text>\n<polyline fill=\"none\" points=\"148,-1162.5 148,-1208.5 \" stroke=\"#000000\"/>\n<text fill=\"#000000\" font-family=\"Times,serif\" font-size=\"14.00\" text-anchor=\"middle\" x=\"177\" y=\"-1193.3\">input:</text>\n<polyline fill=\"none\" points=\"148,-1185.5 206,-1185.5 \" stroke=\"#000000\"/>\n<text fill=\"#000000\" font-family=\"Times,serif\" font-size=\"14.00\" text-anchor=\"middle\" x=\"177\" y=\"-1170.3\">output:</text>\n<polyline fill=\"none\" points=\"206,-1162.5 206,-1208.5 \" stroke=\"#000000\"/>\n<text fill=\"#000000\" font-family=\"Times,serif\" font-size=\"14.00\" text-anchor=\"middle\" x=\"264.5\" y=\"-1193.3\">(None, 64, 64, 1)</text>\n<polyline fill=\"none\" points=\"206,-1185.5 323,-1185.5 \" stroke=\"#000000\"/>\n<text fill=\"#000000\" font-family=\"Times,serif\" font-size=\"14.00\" text-anchor=\"middle\" x=\"264.5\" y=\"-1170.3\">(None, 64, 64, 1)</text>\n</g>\n<!-- 140111455197840 -->\n<g class=\"node\" id=\"node2\">\n<title>140111455197840</title>\n<polygon fill=\"none\" points=\"22.5,-1079.5 22.5,-1125.5 315.5,-1125.5 315.5,-1079.5 22.5,-1079.5\" stroke=\"#000000\"/>\n<text fill=\"#000000\" font-family=\"Times,serif\" font-size=\"14.00\" text-anchor=\"middle\" x=\"77.5\" y=\"-1098.8\">conv1: Conv2D</text>\n<polyline fill=\"none\" points=\"132.5,-1079.5 132.5,-1125.5 \" stroke=\"#000000\"/>\n<text fill=\"#000000\" font-family=\"Times,serif\" font-size=\"14.00\" text-anchor=\"middle\" x=\"161.5\" y=\"-1110.3\">input:</text>\n<polyline fill=\"none\" points=\"132.5,-1102.5 190.5,-1102.5 \" stroke=\"#000000\"/>\n<text fill=\"#000000\" font-family=\"Times,serif\" font-size=\"14.00\" text-anchor=\"middle\" x=\"161.5\" y=\"-1087.3\">output:</text>\n<polyline fill=\"none\" points=\"190.5,-1079.5 190.5,-1125.5 \" stroke=\"#000000\"/>\n<text fill=\"#000000\" font-family=\"Times,serif\" font-size=\"14.00\" text-anchor=\"middle\" x=\"253\" y=\"-1110.3\">(None, 64, 64, 1)</text>\n<polyline fill=\"none\" points=\"190.5,-1102.5 315.5,-1102.5 \" stroke=\"#000000\"/>\n<text fill=\"#000000\" font-family=\"Times,serif\" font-size=\"14.00\" text-anchor=\"middle\" x=\"253\" y=\"-1087.3\">(None, 64, 64, 64)</text>\n</g>\n<!-- 140111455197280&#45;&gt;140111455197840 -->\n<g class=\"edge\" id=\"edge1\">\n<title>140111455197280-&gt;140111455197840</title>\n<path d=\"M169,-1162.3799C169,-1154.1745 169,-1144.7679 169,-1135.8786\" fill=\"none\" stroke=\"#000000\"/>\n<polygon fill=\"#000000\" points=\"172.5001,-1135.784 169,-1125.784 165.5001,-1135.784 172.5001,-1135.784\" stroke=\"#000000\"/>\n</g>\n<!-- 140111455198008 -->\n<g class=\"node\" id=\"node3\">\n<title>140111455198008</title>\n<polygon fill=\"none\" points=\"3.5,-996.5 3.5,-1042.5 334.5,-1042.5 334.5,-996.5 3.5,-996.5\" stroke=\"#000000\"/>\n<text fill=\"#000000\" font-family=\"Times,serif\" font-size=\"14.00\" text-anchor=\"middle\" x=\"77.5\" y=\"-1015.8\">pool1: MaxPooling2D</text>\n<polyline fill=\"none\" points=\"151.5,-996.5 151.5,-1042.5 \" stroke=\"#000000\"/>\n<text fill=\"#000000\" font-family=\"Times,serif\" font-size=\"14.00\" text-anchor=\"middle\" x=\"180.5\" y=\"-1027.3\">input:</text>\n<polyline fill=\"none\" points=\"151.5,-1019.5 209.5,-1019.5 \" stroke=\"#000000\"/>\n<text fill=\"#000000\" font-family=\"Times,serif\" font-size=\"14.00\" text-anchor=\"middle\" x=\"180.5\" y=\"-1004.3\">output:</text>\n<polyline fill=\"none\" points=\"209.5,-996.5 209.5,-1042.5 \" stroke=\"#000000\"/>\n<text fill=\"#000000\" font-family=\"Times,serif\" font-size=\"14.00\" text-anchor=\"middle\" x=\"272\" y=\"-1027.3\">(None, 64, 64, 64)</text>\n<polyline fill=\"none\" points=\"209.5,-1019.5 334.5,-1019.5 \" stroke=\"#000000\"/>\n<text fill=\"#000000\" font-family=\"Times,serif\" font-size=\"14.00\" text-anchor=\"middle\" x=\"272\" y=\"-1004.3\">(None, 32, 32, 64)</text>\n</g>\n<!-- 140111455197840&#45;&gt;140111455198008 -->\n<g class=\"edge\" id=\"edge2\">\n<title>140111455197840-&gt;140111455198008</title>\n<path d=\"M169,-1079.3799C169,-1071.1745 169,-1061.7679 169,-1052.8786\" fill=\"none\" stroke=\"#000000\"/>\n<polygon fill=\"#000000\" points=\"172.5001,-1052.784 169,-1042.784 165.5001,-1052.784 172.5001,-1052.784\" stroke=\"#000000\"/>\n</g>\n<!-- 140111455198512 -->\n<g class=\"node\" id=\"node4\">\n<title>140111455198512</title>\n<polygon fill=\"none\" points=\"19,-913.5 19,-959.5 319,-959.5 319,-913.5 19,-913.5\" stroke=\"#000000\"/>\n<text fill=\"#000000\" font-family=\"Times,serif\" font-size=\"14.00\" text-anchor=\"middle\" x=\"74\" y=\"-932.8\">conv2: Conv2D</text>\n<polyline fill=\"none\" points=\"129,-913.5 129,-959.5 \" stroke=\"#000000\"/>\n<text fill=\"#000000\" font-family=\"Times,serif\" font-size=\"14.00\" text-anchor=\"middle\" x=\"158\" y=\"-944.3\">input:</text>\n<polyline fill=\"none\" points=\"129,-936.5 187,-936.5 \" stroke=\"#000000\"/>\n<text fill=\"#000000\" font-family=\"Times,serif\" font-size=\"14.00\" text-anchor=\"middle\" x=\"158\" y=\"-921.3\">output:</text>\n<polyline fill=\"none\" points=\"187,-913.5 187,-959.5 \" stroke=\"#000000\"/>\n<text fill=\"#000000\" font-family=\"Times,serif\" font-size=\"14.00\" text-anchor=\"middle\" x=\"253\" y=\"-944.3\">(None, 32, 32, 64)</text>\n<polyline fill=\"none\" points=\"187,-936.5 319,-936.5 \" stroke=\"#000000\"/>\n<text fill=\"#000000\" font-family=\"Times,serif\" font-size=\"14.00\" text-anchor=\"middle\" x=\"253\" y=\"-921.3\">(None, 32, 32, 128)</text>\n</g>\n<!-- 140111455198008&#45;&gt;140111455198512 -->\n<g class=\"edge\" id=\"edge3\">\n<title>140111455198008-&gt;140111455198512</title>\n<path d=\"M169,-996.3799C169,-988.1745 169,-978.7679 169,-969.8786\" fill=\"none\" stroke=\"#000000\"/>\n<polygon fill=\"#000000\" points=\"172.5001,-969.784 169,-959.784 165.5001,-969.784 172.5001,-969.784\" stroke=\"#000000\"/>\n</g>\n<!-- 140111455198400 -->\n<g class=\"node\" id=\"node5\">\n<title>140111455198400</title>\n<polygon fill=\"none\" points=\"0,-830.5 0,-876.5 338,-876.5 338,-830.5 0,-830.5\" stroke=\"#000000\"/>\n<text fill=\"#000000\" font-family=\"Times,serif\" font-size=\"14.00\" text-anchor=\"middle\" x=\"74\" y=\"-849.8\">pool2: MaxPooling2D</text>\n<polyline fill=\"none\" points=\"148,-830.5 148,-876.5 \" stroke=\"#000000\"/>\n<text fill=\"#000000\" font-family=\"Times,serif\" font-size=\"14.00\" text-anchor=\"middle\" x=\"177\" y=\"-861.3\">input:</text>\n<polyline fill=\"none\" points=\"148,-853.5 206,-853.5 \" stroke=\"#000000\"/>\n<text fill=\"#000000\" font-family=\"Times,serif\" font-size=\"14.00\" text-anchor=\"middle\" x=\"177\" y=\"-838.3\">output:</text>\n<polyline fill=\"none\" points=\"206,-830.5 206,-876.5 \" stroke=\"#000000\"/>\n<text fill=\"#000000\" font-family=\"Times,serif\" font-size=\"14.00\" text-anchor=\"middle\" x=\"272\" y=\"-861.3\">(None, 32, 32, 128)</text>\n<polyline fill=\"none\" points=\"206,-853.5 338,-853.5 \" stroke=\"#000000\"/>\n<text fill=\"#000000\" font-family=\"Times,serif\" font-size=\"14.00\" text-anchor=\"middle\" x=\"272\" y=\"-838.3\">(None, 16, 16, 128)</text>\n</g>\n<!-- 140111455198512&#45;&gt;140111455198400 -->\n<g class=\"edge\" id=\"edge4\">\n<title>140111455198512-&gt;140111455198400</title>\n<path d=\"M169,-913.3799C169,-905.1745 169,-895.7679 169,-886.8786\" fill=\"none\" stroke=\"#000000\"/>\n<polygon fill=\"#000000\" points=\"172.5001,-886.784 169,-876.784 165.5001,-886.784 172.5001,-886.784\" stroke=\"#000000\"/>\n</g>\n<!-- 140111455136904 -->\n<g class=\"node\" id=\"node6\">\n<title>140111455136904</title>\n<polygon fill=\"none\" points=\"19,-747.5 19,-793.5 319,-793.5 319,-747.5 19,-747.5\" stroke=\"#000000\"/>\n<text fill=\"#000000\" font-family=\"Times,serif\" font-size=\"14.00\" text-anchor=\"middle\" x=\"74\" y=\"-766.8\">conv3: Conv2D</text>\n<polyline fill=\"none\" points=\"129,-747.5 129,-793.5 \" stroke=\"#000000\"/>\n<text fill=\"#000000\" font-family=\"Times,serif\" font-size=\"14.00\" text-anchor=\"middle\" x=\"158\" y=\"-778.3\">input:</text>\n<polyline fill=\"none\" points=\"129,-770.5 187,-770.5 \" stroke=\"#000000\"/>\n<text fill=\"#000000\" font-family=\"Times,serif\" font-size=\"14.00\" text-anchor=\"middle\" x=\"158\" y=\"-755.3\">output:</text>\n<polyline fill=\"none\" points=\"187,-747.5 187,-793.5 \" stroke=\"#000000\"/>\n<text fill=\"#000000\" font-family=\"Times,serif\" font-size=\"14.00\" text-anchor=\"middle\" x=\"253\" y=\"-778.3\">(None, 16, 16, 128)</text>\n<polyline fill=\"none\" points=\"187,-770.5 319,-770.5 \" stroke=\"#000000\"/>\n<text fill=\"#000000\" font-family=\"Times,serif\" font-size=\"14.00\" text-anchor=\"middle\" x=\"253\" y=\"-755.3\">(None, 16, 16, 256)</text>\n</g>\n<!-- 140111455198400&#45;&gt;140111455136904 -->\n<g class=\"edge\" id=\"edge5\">\n<title>140111455198400-&gt;140111455136904</title>\n<path d=\"M169,-830.3799C169,-822.1745 169,-812.7679 169,-803.8786\" fill=\"none\" stroke=\"#000000\"/>\n<polygon fill=\"#000000\" points=\"172.5001,-803.784 169,-793.784 165.5001,-803.784 172.5001,-803.784\" stroke=\"#000000\"/>\n</g>\n<!-- 140111455136848 -->\n<g class=\"node\" id=\"node7\">\n<title>140111455136848</title>\n<polygon fill=\"none\" points=\"0,-664.5 0,-710.5 338,-710.5 338,-664.5 0,-664.5\" stroke=\"#000000\"/>\n<text fill=\"#000000\" font-family=\"Times,serif\" font-size=\"14.00\" text-anchor=\"middle\" x=\"74\" y=\"-683.8\">pool3: MaxPooling2D</text>\n<polyline fill=\"none\" points=\"148,-664.5 148,-710.5 \" stroke=\"#000000\"/>\n<text fill=\"#000000\" font-family=\"Times,serif\" font-size=\"14.00\" text-anchor=\"middle\" x=\"177\" y=\"-695.3\">input:</text>\n<polyline fill=\"none\" points=\"148,-687.5 206,-687.5 \" stroke=\"#000000\"/>\n<text fill=\"#000000\" font-family=\"Times,serif\" font-size=\"14.00\" text-anchor=\"middle\" x=\"177\" y=\"-672.3\">output:</text>\n<polyline fill=\"none\" points=\"206,-664.5 206,-710.5 \" stroke=\"#000000\"/>\n<text fill=\"#000000\" font-family=\"Times,serif\" font-size=\"14.00\" text-anchor=\"middle\" x=\"272\" y=\"-695.3\">(None, 16, 16, 256)</text>\n<polyline fill=\"none\" points=\"206,-687.5 338,-687.5 \" stroke=\"#000000\"/>\n<text fill=\"#000000\" font-family=\"Times,serif\" font-size=\"14.00\" text-anchor=\"middle\" x=\"272\" y=\"-672.3\">(None, 8, 8, 256)</text>\n</g>\n<!-- 140111455136904&#45;&gt;140111455136848 -->\n<g class=\"edge\" id=\"edge6\">\n<title>140111455136904-&gt;140111455136848</title>\n<path d=\"M169,-747.3799C169,-739.1745 169,-729.7679 169,-720.8786\" fill=\"none\" stroke=\"#000000\"/>\n<polygon fill=\"#000000\" points=\"172.5001,-720.784 169,-710.784 165.5001,-720.784 172.5001,-720.784\" stroke=\"#000000\"/>\n</g>\n<!-- 140111446607968 -->\n<g class=\"node\" id=\"node8\">\n<title>140111446607968</title>\n<polygon fill=\"none\" points=\"26.5,-581.5 26.5,-627.5 311.5,-627.5 311.5,-581.5 26.5,-581.5\" stroke=\"#000000\"/>\n<text fill=\"#000000\" font-family=\"Times,serif\" font-size=\"14.00\" text-anchor=\"middle\" x=\"81.5\" y=\"-600.8\">conv4: Conv2D</text>\n<polyline fill=\"none\" points=\"136.5,-581.5 136.5,-627.5 \" stroke=\"#000000\"/>\n<text fill=\"#000000\" font-family=\"Times,serif\" font-size=\"14.00\" text-anchor=\"middle\" x=\"165.5\" y=\"-612.3\">input:</text>\n<polyline fill=\"none\" points=\"136.5,-604.5 194.5,-604.5 \" stroke=\"#000000\"/>\n<text fill=\"#000000\" font-family=\"Times,serif\" font-size=\"14.00\" text-anchor=\"middle\" x=\"165.5\" y=\"-589.3\">output:</text>\n<polyline fill=\"none\" points=\"194.5,-581.5 194.5,-627.5 \" stroke=\"#000000\"/>\n<text fill=\"#000000\" font-family=\"Times,serif\" font-size=\"14.00\" text-anchor=\"middle\" x=\"253\" y=\"-612.3\">(None, 8, 8, 256)</text>\n<polyline fill=\"none\" points=\"194.5,-604.5 311.5,-604.5 \" stroke=\"#000000\"/>\n<text fill=\"#000000\" font-family=\"Times,serif\" font-size=\"14.00\" text-anchor=\"middle\" x=\"253\" y=\"-589.3\">(None, 8, 8, 512)</text>\n</g>\n<!-- 140111455136848&#45;&gt;140111446607968 -->\n<g class=\"edge\" id=\"edge7\">\n<title>140111455136848-&gt;140111446607968</title>\n<path d=\"M169,-664.3799C169,-656.1745 169,-646.7679 169,-637.8786\" fill=\"none\" stroke=\"#000000\"/>\n<polygon fill=\"#000000\" points=\"172.5001,-637.784 169,-627.784 165.5001,-637.784 172.5001,-637.784\" stroke=\"#000000\"/>\n</g>\n<!-- 140111446607912 -->\n<g class=\"node\" id=\"node9\">\n<title>140111446607912</title>\n<polygon fill=\"none\" points=\"7.5,-498.5 7.5,-544.5 330.5,-544.5 330.5,-498.5 7.5,-498.5\" stroke=\"#000000\"/>\n<text fill=\"#000000\" font-family=\"Times,serif\" font-size=\"14.00\" text-anchor=\"middle\" x=\"81.5\" y=\"-517.8\">pool4: MaxPooling2D</text>\n<polyline fill=\"none\" points=\"155.5,-498.5 155.5,-544.5 \" stroke=\"#000000\"/>\n<text fill=\"#000000\" font-family=\"Times,serif\" font-size=\"14.00\" text-anchor=\"middle\" x=\"184.5\" y=\"-529.3\">input:</text>\n<polyline fill=\"none\" points=\"155.5,-521.5 213.5,-521.5 \" stroke=\"#000000\"/>\n<text fill=\"#000000\" font-family=\"Times,serif\" font-size=\"14.00\" text-anchor=\"middle\" x=\"184.5\" y=\"-506.3\">output:</text>\n<polyline fill=\"none\" points=\"213.5,-498.5 213.5,-544.5 \" stroke=\"#000000\"/>\n<text fill=\"#000000\" font-family=\"Times,serif\" font-size=\"14.00\" text-anchor=\"middle\" x=\"272\" y=\"-529.3\">(None, 8, 8, 512)</text>\n<polyline fill=\"none\" points=\"213.5,-521.5 330.5,-521.5 \" stroke=\"#000000\"/>\n<text fill=\"#000000\" font-family=\"Times,serif\" font-size=\"14.00\" text-anchor=\"middle\" x=\"272\" y=\"-506.3\">(None, 4, 4, 512)</text>\n</g>\n<!-- 140111446607968&#45;&gt;140111446607912 -->\n<g class=\"edge\" id=\"edge8\">\n<title>140111446607968-&gt;140111446607912</title>\n<path d=\"M169,-581.3799C169,-573.1745 169,-563.7679 169,-554.8786\" fill=\"none\" stroke=\"#000000\"/>\n<polygon fill=\"#000000\" points=\"172.5001,-554.784 169,-544.784 165.5001,-554.784 172.5001,-554.784\" stroke=\"#000000\"/>\n</g>\n<!-- 140111446242248 -->\n<g class=\"node\" id=\"node10\">\n<title>140111446242248</title>\n<polygon fill=\"none\" points=\"26.5,-415.5 26.5,-461.5 311.5,-461.5 311.5,-415.5 26.5,-415.5\" stroke=\"#000000\"/>\n<text fill=\"#000000\" font-family=\"Times,serif\" font-size=\"14.00\" text-anchor=\"middle\" x=\"81.5\" y=\"-434.8\">conv5: Conv2D</text>\n<polyline fill=\"none\" points=\"136.5,-415.5 136.5,-461.5 \" stroke=\"#000000\"/>\n<text fill=\"#000000\" font-family=\"Times,serif\" font-size=\"14.00\" text-anchor=\"middle\" x=\"165.5\" y=\"-446.3\">input:</text>\n<polyline fill=\"none\" points=\"136.5,-438.5 194.5,-438.5 \" stroke=\"#000000\"/>\n<text fill=\"#000000\" font-family=\"Times,serif\" font-size=\"14.00\" text-anchor=\"middle\" x=\"165.5\" y=\"-423.3\">output:</text>\n<polyline fill=\"none\" points=\"194.5,-415.5 194.5,-461.5 \" stroke=\"#000000\"/>\n<text fill=\"#000000\" font-family=\"Times,serif\" font-size=\"14.00\" text-anchor=\"middle\" x=\"253\" y=\"-446.3\">(None, 4, 4, 512)</text>\n<polyline fill=\"none\" points=\"194.5,-438.5 311.5,-438.5 \" stroke=\"#000000\"/>\n<text fill=\"#000000\" font-family=\"Times,serif\" font-size=\"14.00\" text-anchor=\"middle\" x=\"253\" y=\"-423.3\">(None, 4, 4, 512)</text>\n</g>\n<!-- 140111446607912&#45;&gt;140111446242248 -->\n<g class=\"edge\" id=\"edge9\">\n<title>140111446607912-&gt;140111446242248</title>\n<path d=\"M169,-498.3799C169,-490.1745 169,-480.7679 169,-471.8786\" fill=\"none\" stroke=\"#000000\"/>\n<polygon fill=\"#000000\" points=\"172.5001,-471.784 169,-461.784 165.5001,-471.784 172.5001,-471.784\" stroke=\"#000000\"/>\n</g>\n<!-- 140111446242192 -->\n<g class=\"node\" id=\"node11\">\n<title>140111446242192</title>\n<polygon fill=\"none\" points=\"7.5,-332.5 7.5,-378.5 330.5,-378.5 330.5,-332.5 7.5,-332.5\" stroke=\"#000000\"/>\n<text fill=\"#000000\" font-family=\"Times,serif\" font-size=\"14.00\" text-anchor=\"middle\" x=\"81.5\" y=\"-351.8\">pool5: MaxPooling2D</text>\n<polyline fill=\"none\" points=\"155.5,-332.5 155.5,-378.5 \" stroke=\"#000000\"/>\n<text fill=\"#000000\" font-family=\"Times,serif\" font-size=\"14.00\" text-anchor=\"middle\" x=\"184.5\" y=\"-363.3\">input:</text>\n<polyline fill=\"none\" points=\"155.5,-355.5 213.5,-355.5 \" stroke=\"#000000\"/>\n<text fill=\"#000000\" font-family=\"Times,serif\" font-size=\"14.00\" text-anchor=\"middle\" x=\"184.5\" y=\"-340.3\">output:</text>\n<polyline fill=\"none\" points=\"213.5,-332.5 213.5,-378.5 \" stroke=\"#000000\"/>\n<text fill=\"#000000\" font-family=\"Times,serif\" font-size=\"14.00\" text-anchor=\"middle\" x=\"272\" y=\"-363.3\">(None, 4, 4, 512)</text>\n<polyline fill=\"none\" points=\"213.5,-355.5 330.5,-355.5 \" stroke=\"#000000\"/>\n<text fill=\"#000000\" font-family=\"Times,serif\" font-size=\"14.00\" text-anchor=\"middle\" x=\"272\" y=\"-340.3\">(None, 2, 2, 512)</text>\n</g>\n<!-- 140111446242248&#45;&gt;140111446242192 -->\n<g class=\"edge\" id=\"edge10\">\n<title>140111446242248-&gt;140111446242192</title>\n<path d=\"M169,-415.3799C169,-407.1745 169,-397.7679 169,-388.8786\" fill=\"none\" stroke=\"#000000\"/>\n<polygon fill=\"#000000\" points=\"172.5001,-388.784 169,-378.784 165.5001,-388.784 172.5001,-388.784\" stroke=\"#000000\"/>\n</g>\n<!-- 140111446335216 -->\n<g class=\"node\" id=\"node12\">\n<title>140111446335216</title>\n<polygon fill=\"none\" points=\"32.5,-249.5 32.5,-295.5 305.5,-295.5 305.5,-249.5 32.5,-249.5\" stroke=\"#000000\"/>\n<text fill=\"#000000\" font-family=\"Times,serif\" font-size=\"14.00\" text-anchor=\"middle\" x=\"81.5\" y=\"-268.8\">flatten: Flatten</text>\n<polyline fill=\"none\" points=\"130.5,-249.5 130.5,-295.5 \" stroke=\"#000000\"/>\n<text fill=\"#000000\" font-family=\"Times,serif\" font-size=\"14.00\" text-anchor=\"middle\" x=\"159.5\" y=\"-280.3\">input:</text>\n<polyline fill=\"none\" points=\"130.5,-272.5 188.5,-272.5 \" stroke=\"#000000\"/>\n<text fill=\"#000000\" font-family=\"Times,serif\" font-size=\"14.00\" text-anchor=\"middle\" x=\"159.5\" y=\"-257.3\">output:</text>\n<polyline fill=\"none\" points=\"188.5,-249.5 188.5,-295.5 \" stroke=\"#000000\"/>\n<text fill=\"#000000\" font-family=\"Times,serif\" font-size=\"14.00\" text-anchor=\"middle\" x=\"247\" y=\"-280.3\">(None, 2, 2, 512)</text>\n<polyline fill=\"none\" points=\"188.5,-272.5 305.5,-272.5 \" stroke=\"#000000\"/>\n<text fill=\"#000000\" font-family=\"Times,serif\" font-size=\"14.00\" text-anchor=\"middle\" x=\"247\" y=\"-257.3\">(None, 2048)</text>\n</g>\n<!-- 140111446242192&#45;&gt;140111446335216 -->\n<g class=\"edge\" id=\"edge11\">\n<title>140111446242192-&gt;140111446335216</title>\n<path d=\"M169,-332.3799C169,-324.1745 169,-314.7679 169,-305.8786\" fill=\"none\" stroke=\"#000000\"/>\n<polygon fill=\"#000000\" points=\"172.5001,-305.784 169,-295.784 165.5001,-305.784 172.5001,-305.784\" stroke=\"#000000\"/>\n</g>\n<!-- 140113265085240 -->\n<g class=\"node\" id=\"node13\">\n<title>140113265085240</title>\n<polygon fill=\"none\" points=\"54,-166.5 54,-212.5 284,-212.5 284,-166.5 54,-166.5\" stroke=\"#000000\"/>\n<text fill=\"#000000\" font-family=\"Times,serif\" font-size=\"14.00\" text-anchor=\"middle\" x=\"92.5\" y=\"-185.8\">fc1: Dense</text>\n<polyline fill=\"none\" points=\"131,-166.5 131,-212.5 \" stroke=\"#000000\"/>\n<text fill=\"#000000\" font-family=\"Times,serif\" font-size=\"14.00\" text-anchor=\"middle\" x=\"160\" y=\"-197.3\">input:</text>\n<polyline fill=\"none\" points=\"131,-189.5 189,-189.5 \" stroke=\"#000000\"/>\n<text fill=\"#000000\" font-family=\"Times,serif\" font-size=\"14.00\" text-anchor=\"middle\" x=\"160\" y=\"-174.3\">output:</text>\n<polyline fill=\"none\" points=\"189,-166.5 189,-212.5 \" stroke=\"#000000\"/>\n<text fill=\"#000000\" font-family=\"Times,serif\" font-size=\"14.00\" text-anchor=\"middle\" x=\"236.5\" y=\"-197.3\">(None, 2048)</text>\n<polyline fill=\"none\" points=\"189,-189.5 284,-189.5 \" stroke=\"#000000\"/>\n<text fill=\"#000000\" font-family=\"Times,serif\" font-size=\"14.00\" text-anchor=\"middle\" x=\"236.5\" y=\"-174.3\">(None, 4096)</text>\n</g>\n<!-- 140111446335216&#45;&gt;140113265085240 -->\n<g class=\"edge\" id=\"edge12\">\n<title>140111446335216-&gt;140113265085240</title>\n<path d=\"M169,-249.3799C169,-241.1745 169,-231.7679 169,-222.8786\" fill=\"none\" stroke=\"#000000\"/>\n<polygon fill=\"#000000\" points=\"172.5001,-222.784 169,-212.784 165.5001,-222.784 172.5001,-222.784\" stroke=\"#000000\"/>\n</g>\n<!-- 140111446421120 -->\n<g class=\"node\" id=\"node14\">\n<title>140111446421120</title>\n<polygon fill=\"none\" points=\"54,-83.5 54,-129.5 284,-129.5 284,-83.5 54,-83.5\" stroke=\"#000000\"/>\n<text fill=\"#000000\" font-family=\"Times,serif\" font-size=\"14.00\" text-anchor=\"middle\" x=\"92.5\" y=\"-102.8\">fc2: Dense</text>\n<polyline fill=\"none\" points=\"131,-83.5 131,-129.5 \" stroke=\"#000000\"/>\n<text fill=\"#000000\" font-family=\"Times,serif\" font-size=\"14.00\" text-anchor=\"middle\" x=\"160\" y=\"-114.3\">input:</text>\n<polyline fill=\"none\" points=\"131,-106.5 189,-106.5 \" stroke=\"#000000\"/>\n<text fill=\"#000000\" font-family=\"Times,serif\" font-size=\"14.00\" text-anchor=\"middle\" x=\"160\" y=\"-91.3\">output:</text>\n<polyline fill=\"none\" points=\"189,-83.5 189,-129.5 \" stroke=\"#000000\"/>\n<text fill=\"#000000\" font-family=\"Times,serif\" font-size=\"14.00\" text-anchor=\"middle\" x=\"236.5\" y=\"-114.3\">(None, 4096)</text>\n<polyline fill=\"none\" points=\"189,-106.5 284,-106.5 \" stroke=\"#000000\"/>\n<text fill=\"#000000\" font-family=\"Times,serif\" font-size=\"14.00\" text-anchor=\"middle\" x=\"236.5\" y=\"-91.3\">(None, 4096)</text>\n</g>\n<!-- 140113265085240&#45;&gt;140111446421120 -->\n<g class=\"edge\" id=\"edge13\">\n<title>140113265085240-&gt;140111446421120</title>\n<path d=\"M169,-166.3799C169,-158.1745 169,-148.7679 169,-139.8786\" fill=\"none\" stroke=\"#000000\"/>\n<polygon fill=\"#000000\" points=\"172.5001,-139.784 169,-129.784 165.5001,-139.784 172.5001,-139.784\" stroke=\"#000000\"/>\n</g>\n<!-- 140111446053384 -->\n<g class=\"node\" id=\"node15\">\n<title>140111446053384</title>\n<polygon fill=\"none\" points=\"34,-.5 34,-46.5 304,-46.5 304,-.5 34,-.5\" stroke=\"#000000\"/>\n<text fill=\"#000000\" font-family=\"Times,serif\" font-size=\"14.00\" text-anchor=\"middle\" x=\"92.5\" y=\"-19.8\">prediction: Dense</text>\n<polyline fill=\"none\" points=\"151,-.5 151,-46.5 \" stroke=\"#000000\"/>\n<text fill=\"#000000\" font-family=\"Times,serif\" font-size=\"14.00\" text-anchor=\"middle\" x=\"180\" y=\"-31.3\">input:</text>\n<polyline fill=\"none\" points=\"151,-23.5 209,-23.5 \" stroke=\"#000000\"/>\n<text fill=\"#000000\" font-family=\"Times,serif\" font-size=\"14.00\" text-anchor=\"middle\" x=\"180\" y=\"-8.3\">output:</text>\n<polyline fill=\"none\" points=\"209,-.5 209,-46.5 \" stroke=\"#000000\"/>\n<text fill=\"#000000\" font-family=\"Times,serif\" font-size=\"14.00\" text-anchor=\"middle\" x=\"256.5\" y=\"-31.3\">(None, 4096)</text>\n<polyline fill=\"none\" points=\"209,-23.5 304,-23.5 \" stroke=\"#000000\"/>\n<text fill=\"#000000\" font-family=\"Times,serif\" font-size=\"14.00\" text-anchor=\"middle\" x=\"256.5\" y=\"-8.3\">(None, 4)</text>\n</g>\n<!-- 140111446421120&#45;&gt;140111446053384 -->\n<g class=\"edge\" id=\"edge14\">\n<title>140111446421120-&gt;140111446053384</title>\n<path d=\"M169,-83.3799C169,-75.1745 169,-65.7679 169,-56.8786\" fill=\"none\" stroke=\"#000000\"/>\n<polygon fill=\"#000000\" points=\"172.5001,-56.784 169,-46.784 165.5001,-56.784 172.5001,-56.784\" stroke=\"#000000\"/>\n</g>\n</g>\n</svg>"
          },
          "metadata": {
            "tags": []
          },
          "execution_count": 8
        }
      ]
    },
    {
      "cell_type": "code",
      "metadata": {
        "id": "9jTu1V7g7hw6",
        "colab_type": "code",
        "cellView": "form",
        "colab": {}
      },
      "source": [
        "#@title # 2.3: Train the model\n",
        "#@\n",
        "batch_size=64 #@param {type:\"number\"}\n",
        "epoch=200    #@param {type: \"number\"}\n",
        "tsteps=len(Train_unseen_images)/batch_size\n",
        "vsteps=len(Val_unseen_images)/batch_size\n",
        "model.fit_generator(datagen(\"unseen_train\",batch_size),callbacks=[mc,es],epochs=epoch,steps_per_epoch=1,validation_data=datagen(\"unseen_val\",batch_size),validation_steps=1)"
      ],
      "execution_count": 0,
      "outputs": []
    },
    {
      "cell_type": "code",
      "metadata": {
        "id": "XEeKqp-Ktokt",
        "colab_type": "code",
        "cellView": "form",
        "colab": {}
      },
      "source": [
        "#@markdown Download the weights\n",
        "files.download(file_name)\n",
        "print('--Download Completed--')"
      ],
      "execution_count": 0,
      "outputs": []
    },
    {
      "cell_type": "markdown",
      "metadata": {
        "id": "KuyqgsavwJ0c",
        "colab_type": "text"
      },
      "source": [
        "## 3:  Predict the Output class and calculate the coarse Localization MAP [Heatmap]"
      ]
    },
    {
      "cell_type": "code",
      "metadata": {
        "id": "64ULYF9LjfDp",
        "colab_type": "code",
        "outputId": "985f44d9-ae72-4175-9375-c2805fd3e77f",
        "cellView": "form",
        "colab": {
          "base_uri": "https://localhost:8080/",
          "height": 123
        }
      },
      "source": [
        "#@title\n",
        "#@markdown We are testing the trained model by giving all Handwriting sample in the testing set and caluclating the heatmap for the predicted class.\n",
        "preprocessed_input = load_image(cv2.imread(\"Dataset/AML_Proj2/unseen-dataset/ValidationSet/1451a_num1.png\",0))\n",
        "print(preprocessed_input.shape)\n",
        "ld_weights = \"file_name\" #@param [\"GradCam_seen_weights_v3.h5\", \"file_name\"] \n",
        "\n",
        "model.load_weights(ld_weights)\n",
        "predictions = model.predict(preprocessed_input)\n",
        "\n",
        "predicted_class = np.argmax(predictions)\n",
        "print(predicted_class)\n",
        "cam, heatmap = grad_cam(model, preprocessed_input, predicted_class, \"conv5\")\n",
        "cv2.imwrite(\"gradcam.jpg\",cam)"
      ],
      "execution_count": 19,
      "outputs": [
        {
          "output_type": "stream",
          "text": [
            "(1, 64, 64, 1)\n",
            "0\n",
            "(4, 4, 512)\n",
            "(4, 4, 512)\n",
            "(64, 64)\n"
          ],
          "name": "stdout"
        },
        {
          "output_type": "execute_result",
          "data": {
            "text/plain": [
              "True"
            ]
          },
          "metadata": {
            "tags": []
          },
          "execution_count": 19
        }
      ]
    },
    {
      "cell_type": "code",
      "metadata": {
        "id": "9yVpjWzotFft",
        "colab_type": "code",
        "colab": {
          "base_uri": "https://localhost:8080/",
          "height": 81
        },
        "cellView": "form",
        "outputId": "6dc2c7e3-ef20-4e60-e642-a076fa76f685"
      },
      "source": [
        "#@title ### 3.1: Save and display the predicted image \n",
        "y=cv2.imread(\"gradcam.jpg\")\n",
        "from google.colab.patches import cv2_imshow\n",
        "cv2_imshow(y)"
      ],
      "execution_count": 20,
      "outputs": [
        {
          "output_type": "display_data",
          "data": {
            "image/png": "[encoded data removed]",
            "text/plain": [
              "<PIL.Image.Image image mode=RGB size=64x64 at 0x7F6E3CE322B0>"
            ]
          },
          "metadata": {
            "tags": []
          }
        }
      ]
    }
  ]
}